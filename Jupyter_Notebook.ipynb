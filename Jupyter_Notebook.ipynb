{
 "cells": [
  {
   "cell_type": "markdown",
   "metadata": {},
   "source": [
    "<center>\n",
    "    <img src=\"https://s3-api.us-geo.objectstorage.softlayer.net/cf-courses-data/CognitiveClass/Logos/organization_logo/organization_logo.png\" width=\"300\" alt=\"cognitiveclass.ai logo\"  />\n",
    "</center>\n"
   ]
  },
  {
   "cell_type": "markdown",
   "metadata": {},
   "source": [
    "#### Add your code below following the instructions given in the course\n"
   ]
  },
  {
   "cell_type": "markdown",
   "metadata": {},
   "source": [
    "# My Jupyter Notebook on IBM Watson Studio"
   ]
  },
  {
   "cell_type": "markdown",
   "metadata": {},
   "source": [
    "**Advait Vinay Dhopeshwarkar** <br/> Software Development Engineer (Machine Learning)"
   ]
  },
  {
   "cell_type": "markdown",
   "metadata": {},
   "source": [
    "*I am interested in data science because as a software development engineer working in the machine learning domain, working with data, obtaining, analyzing, cleaning data, creating visualizations to derive basic insights is very important. In today's world, data is the core of any business. Thus, learning such a skill gives a great sense of power, responsibility and a sense of bringing impact to the lives of people and the world.*"
   ]
  },
  {
   "cell_type": "markdown",
   "metadata": {},
   "source": [
    "### Takes an input for n (positive integer). Prints first n prime numbers."
   ]
  },
  {
   "cell_type": "code",
   "execution_count": 7,
   "metadata": {},
   "outputs": [
    {
     "name": "stdin",
     "output_type": "stream",
     "text": [
      "Enter n: 50\n"
     ]
    },
    {
     "name": "stdout",
     "output_type": "stream",
     "text": [
      "First 50 prime numbers are:\n",
      "2 3 5 7 11 13 17 19 23 29 31 37 41 43 47 53 59 61 67 71 73 79 83 89 97 101 103 107 109 113 127 131 137 139 149 151 157 163 167 173 179 181 191 193 197 199 211 223 227 229 "
     ]
    }
   ],
   "source": [
    "def is_prime(x):\n",
    "    if x==1:\n",
    "        return False\n",
    "    elif x==2 or x==3:\n",
    "        return True\n",
    "    elif x%2==0:\n",
    "        return False\n",
    "    \n",
    "    i=3\n",
    "    while i*i<=x:\n",
    "        if x%i==0:\n",
    "            return False\n",
    "        i+=2\n",
    "        \n",
    "    return True\n",
    "\n",
    "count=1\n",
    "num=1\n",
    "\n",
    "n=None\n",
    "try:\n",
    "    n=int(input(\"Enter n:\"))\n",
    "    if n<0:\n",
    "        print(\"Please Enter a positive integer.\")\n",
    "    else:\n",
    "        print(\"First {0} prime numbers are:\".format(n))\n",
    "        while count<n+1:\n",
    "            if is_prime(num):\n",
    "                print(num,end=\" \")\n",
    "                count+=1\n",
    "            num+=1\n",
    "except:\n",
    "    print(\"Please enter valid input. n must be a positive integer.\")\n",
    "\n",
    "    \n",
    "    "
   ]
  },
  {
   "cell_type": "markdown",
   "metadata": {},
   "source": [
    "---"
   ]
  },
  {
   "cell_type": "markdown",
   "metadata": {},
   "source": [
    "Food Items list:\n",
    "* Pizza\n",
    "* Noodles\n",
    "* Naan bread\n",
    "* Butter Chicken"
   ]
  },
  {
   "cell_type": "markdown",
   "metadata": {},
   "source": [
    "---"
   ]
  },
  {
   "cell_type": "markdown",
   "metadata": {},
   "source": [
    "<img src=\"https://image.shutterstock.com/image-photo/funny-large-longhair-gray-kitten-600w-1842198919.jpg\"/>"
   ]
  },
  {
   "cell_type": "markdown",
   "metadata": {},
   "source": [
    "> A back quote looks good here."
   ]
  }
 ],
 "metadata": {
  "kernelspec": {
   "display_name": "Python",
   "language": "python",
   "name": "conda-env-python-py"
  },
  "language_info": {
   "codemirror_mode": {
    "name": "ipython",
    "version": 3
   },
   "file_extension": ".py",
   "mimetype": "text/x-python",
   "name": "python",
   "nbconvert_exporter": "python",
   "pygments_lexer": "ipython3",
   "version": "3.7.12"
  }
 },
 "nbformat": 4,
 "nbformat_minor": 4
}
